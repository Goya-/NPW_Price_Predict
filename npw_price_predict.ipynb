{
 "cells": [
  {
   "cell_type": "code",
   "execution_count": 1,
   "metadata": {},
   "outputs": [],
   "source": [
    "import numpy as np\n",
    "import matplotlib.pyplot as plt\n",
    "from datetime import datetime\n",
    "import math\n",
    "from matplotlib.ticker import FuncFormatter\n",
    "% matplotlib inline"
   ]
  },
  {
   "cell_type": "code",
   "execution_count": 2,
   "metadata": {
    "collapsed": true
   },
   "outputs": [],
   "source": [
    "nStartMasternodePayments = 1524146400; #19 Apr 2018 22:00:00 GMT\n",
    "block2001Time = 1527483752 # 28th May 2018 13:02:32\n",
    "block1Time = 1527248670  # 25th May 2018 19:44:30\n",
    "averageBlockTime = 126 # 平均区块时间2分零6秒"
   ]
  },
  {
   "cell_type": "code",
   "execution_count": 3,
   "metadata": {},
   "outputs": [],
   "source": [
    "\"\"\"\n",
    "给定区块高度获得区块奖励(float)\n",
    "\"\"\"\n",
    "def GetBlockValue(nHeight:int):\n",
    "    nSubsidy = 0\n",
    "    LAST_POW_BLOCK = 23600\n",
    "    COIN = 1    \n",
    "    \n",
    "    if (nHeight == 0):\n",
    "        nSubsidy = 7000000 * COIN;\n",
    "    elif (nHeight < 2000 and nHeight > 0):\n",
    "        nSubsidy = 1 * COIN;\n",
    "    elif (nHeight < LAST_POW_BLOCK and nHeight >= 2000):\n",
    "        nSubsidy = 100 * COIN;\n",
    "    elif (nHeight < 300000 and nHeight >= LAST_POW_BLOCK) :\n",
    "        nSubsidy = 100 * COIN;\n",
    "    elif (nHeight < 1000000 and nHeight >= 300000):\n",
    "        nSubsidy = 50 * COIN;\n",
    "    elif (nHeight < 2000000 and nHeight >= 1000000):\n",
    "        nSubsidy = 25 * COIN;\n",
    "    elif (nHeight < 3000000 and nHeight >= 2000000): \n",
    "        nSubsidy = 12.5 * COIN;\n",
    "    else:\n",
    "        nSubsidy = 6.25 * COIN;\n",
    "               \n",
    "    # Super block\n",
    "    nTail = nHeight - int(nHeight / 21600) * 21600;\n",
    "    if (nHeight > LAST_POW_BLOCK and nTail >= 0 and nTail < 15):\n",
    "        nSubsidy = 1000 * COIN;\n",
    "\n",
    "    return nSubsidy;\n",
    "\n",
    "\"\"\"\n",
    "输入两个区块高度（或时间），返回膨胀率(float)\n",
    "\"\"\"\n",
    "def InflationRate(arg1,arg2):        \n",
    "    if type(arg1)==str:\n",
    "        ts1 = np.datetime64(arg1 , 's').astype('int64')\n",
    "        block1 = math.floor((ts1 - block1Time)/averageBlockTime)\n",
    "    else:\n",
    "        block1 = arg1\n",
    "        \n",
    "    if type(arg2)==str:\n",
    "        ts2 = np.datetime64(arg2 , 's').astype('int64')\n",
    "        block2 = math.floor((ts2 - block1Time)/averageBlockTime)\n",
    "    else:\n",
    "        block2 = arg2     \n",
    "        \n",
    "    if block1>=block2:\n",
    "        block1,block2 = block2,block1\n",
    "        \n",
    "    block1List = np.arange(block1)\n",
    "    block2List = np.arange(block2)\n",
    "    GetBlockValueFunc = np.vectorize(GetBlockValue)\n",
    "    \n",
    "    block1Last = np.cumsum(GetBlockValueFunc(block1List))[-1]\n",
    "    block2Last = np.cumsum(GetBlockValueFunc(block2List))[-1]\n",
    "    \n",
    "    return block2Last/block1Last\n",
    "\n",
    "\n",
    "\"\"\"\n",
    "给定区块高度（或时间），获得流通数量(float)\n",
    "\"\"\"\n",
    "def GetCirculatingSupply(arg):\n",
    "    if type(arg)==int or type(arg)==float:\n",
    "        nHeight = arg\n",
    "    elif type(arg) == str or type(arg)==np.datetime64:\n",
    "        ts = np.datetime64(arg , 's').astype('int64')\n",
    "        nHeight = math.floor((ts - block1Time)/averageBlockTime)\n",
    "        \n",
    "    blockIndexes = np.arange(nHeight)\n",
    "    GetBlockValueFunc = np.vectorize(GetBlockValue)\n",
    "    cumsum = np.cumsum(GetBlockValueFunc(blockIndexes))\n",
    "    return cumsum[-1]\n",
    "\n",
    "\n",
    "\"\"\"\n",
    "给定区块高度(或时间)，获得真实年化ROI\n",
    "\"\"\"\n",
    "def GetRealROIAnnual(arg):\n",
    "    if type(arg)==int:\n",
    "        nHeight = arg\n",
    "    else:\n",
    "        ts = np.datetime64(arg , 's').astype('int64')\n",
    "        nHeight = math.floor((ts - block1Time)/averageBlockTime)\n",
    "    AnnualBlockCount = 365*24*60*60/averageBlockTime\n",
    "    return GetCirculatingSupply(nHeight+AnnualBlockCount)/GetCirculatingSupply(nHeight)\n",
    "\n",
    "\"\"\"\n",
    "给定区块高度，返回时间\n",
    "\"\"\"\n",
    "def GetTimeFromHeight(height):\n",
    "    ts = height*averageBlockTime+block1Time\n",
    "    return np.datetime64(ts , 's')"
   ]
  },
  {
   "cell_type": "code",
   "execution_count": 4,
   "metadata": {},
   "outputs": [
    {
     "name": "stdout",
     "output_type": "stream",
     "text": [
      "2019-08-05T23:44:30\n",
      "2022-05-22T19:44:30\n",
      "2026-05-20T03:44:30\n",
      "2030-05-17T11:44:30\n"
     ]
    }
   ],
   "source": [
    "# 第一次减半 300000 到50\n",
    "print(GetTimeFromHeight(300000))\n",
    "# 第二次减半 1000000 到25\n",
    "print(GetTimeFromHeight(1000000))\n",
    "# 第三次减半 2000000 到12.5\n",
    "print(GetTimeFromHeight(2000000))\n",
    "# 第四次减半 3000000 到6.25\n",
    "print(GetTimeFromHeight(3000000))"
   ]
  },
  {
   "cell_type": "code",
   "execution_count": 5,
   "metadata": {},
   "outputs": [
    {
     "name": "stdout",
     "output_type": "stream",
     "text": [
      "[4.57128623 3.87508312 3.35933337 2.96499361 2.63780952 2.38741019\n",
      " 2.18883011 2.02869577 1.89635743 1.78515585 1.69127492 1.60947089\n",
      " 1.53821193 1.4755825  1.42010454 1.37022125 1.33919946 1.33057788\n",
      " 1.32238372 1.3150512  1.30760819 1.30050874 1.2937296  1.28724957\n",
      " 1.28073358 1.27480197 1.26911584 1.26366025 1.25878729 1.25374407\n",
      " 1.24889365 1.24422518 1.23972863 1.23513022 1.23095487 1.22692522\n",
      " 1.22303377 1.21957428 1.21593287 1.21241026 1.20133084 1.19037284\n",
      " 1.17952222 1.16923382 1.15925579 1.14957429 1.14042051 1.13128829\n",
      " 1.12241593 1.1137925  1.10540766 1.09704682 1.08911316]\n"
     ]
    }
   ],
   "source": [
    "t = np.arange('2018-05-26', '2022-05-26',np.timedelta64(4,'W'), dtype='datetime64')\n",
    "\n",
    "GetRealROIAnnualFun = np.vectorize(GetRealROIAnnual)\n",
    "\n",
    "RealROIX = GetRealROIAnnualFun(t)\n",
    "\n",
    "print(RealROIX) "
   ]
  },
  {
   "cell_type": "code",
   "execution_count": 6,
   "metadata": {
    "scrolled": true
   },
   "outputs": [
    {
     "data": {
      "image/png": "[encoded data removed]",
      "text/plain": [
       "<Figure size 432x288 with 1 Axes>"
      ]
     },
     "metadata": {},
     "output_type": "display_data"
    }
   ],
   "source": [
    "f, ax = plt.subplots()\n",
    "ax.set_title('NPW Real Annual Return')\n",
    "ax.plot_date(t, RealROIX-1) \n",
    "plt.xticks(rotation=45)\n",
    "vals = ax.get_yticks()\n",
    "ax.set_yticklabels(['{:,.2%}'.format(x) for x in vals])\n",
    "plt.show()"
   ]
  },
  {
   "cell_type": "code",
   "execution_count": 7,
   "metadata": {},
   "outputs": [
    {
     "name": "stdout",
     "output_type": "stream",
     "text": [
      "19年8月会第一次减半，届时年通胀维持在35%以下。\n",
      "如果达到了 PIVX 目前的￥4亿市值，币价会是10.84元。\n",
      "你目前 0.000006BTC，也就是￥2.5卖掉的1NPW，在那时会变成2.50个\n",
      "换句话说，现在的1NPW，到时候会价值￥27.12\n"
     ]
    }
   ],
   "source": [
    "tempPrice = 400000000/GetCirculatingSupply('2019-08-05')\n",
    "tempChildren = InflationRate('2018-09-18','2019-08-05')\n",
    "fairValue = tempPrice * tempChildren\n",
    "print(f'''19年8月会第一次减半，届时年通胀维持在35%以下。\n",
    "如果达到了 PIVX 目前的￥4亿市值，币价会是{tempPrice:.2f}元。\n",
    "你目前 0.000006BTC，也就是￥2.5卖掉的1NPW，在那时会变成{tempChildren:.2f}个\n",
    "换句话说，现在的1NPW，到时候会价值￥{fairValue:.2f}''')"
   ]
  },
  {
   "cell_type": "code",
   "execution_count": 8,
   "metadata": {},
   "outputs": [
    {
     "name": "stdout",
     "output_type": "stream",
     "text": [
      "22年5月会第二次减半，届时年通胀维持在10%以下。\n",
      "如果达到了 DASH 目前的￥80亿市值，币价会是110.49元。\n",
      "你目前 0.00006BTC，也就是￥2.5卖掉的1NPW，在那时会变成4.91个\n",
      "换句话说，现在的1NPW，到时候会价值￥542.38\n"
     ]
    }
   ],
   "source": [
    "tempPrice = 8000000000/GetCirculatingSupply('2022-05-22')\n",
    "tempChildren = InflationRate('2018-09-18','2022-05-22')\n",
    "fairValue = tempPrice * tempChildren\n",
    "print(f'''22年5月会第二次减半，届时年通胀维持在10%以下。\n",
    "如果达到了 DASH 目前的￥80亿市值，币价会是{tempPrice:.2f}元。\n",
    "你目前 0.00006BTC，也就是￥2.5卖掉的1NPW，在那时会变成{tempChildren:.2f}个\n",
    "换句话说，现在的1NPW，到时候会价值￥{fairValue:.2f}''')"
   ]
  }
 ],
 "metadata": {
  "anaconda-cloud": {},
  "kernelspec": {
   "display_name": "masternode",
   "language": "python",
   "name": "masternode"
  },
  "language_info": {
   "codemirror_mode": {
    "name": "ipython",
    "version": 3
   },
   "file_extension": ".py",
   "mimetype": "text/x-python",
   "name": "python",
   "nbconvert_exporter": "python",
   "pygments_lexer": "ipython3",
   "version": "3.7.0"
  }
 },
 "nbformat": 4,
 "nbformat_minor": 1
}
