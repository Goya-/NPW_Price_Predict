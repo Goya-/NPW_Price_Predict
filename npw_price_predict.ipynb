{
 "cells": [
  {
   "cell_type": "code",
   "execution_count": null,
   "metadata": {
    "collapsed": false
   },
   "outputs": [],
   "source": [
    "import numpy as np\n",
    "import matplotlib.pyplot as plt\n",
    "from datetime import datetime\n",
    "import math\n",
    "from matplotlib.ticker import FuncFormatter\n",
    "% matplotlib inline"
   ]
  },
  {
   "cell_type": "code",
   "execution_count": null,
   "metadata": {
    "collapsed": true
   },
   "outputs": [],
   "source": [
    "nStartMasternodePayments = 1524146400; #19 Apr 2018 22:00:00 GMT\n",
    "block2001Time = 1527483752 # 28th May 2018 13:02:32\n",
    "block1Time = 1527248670  # 25th May 2018 19:44:30\n",
    "averageBlockTime = 126 # 平均区块时间2分零3秒"
   ]
  },
  {
   "cell_type": "code",
   "execution_count": null,
   "metadata": {
    "collapsed": false
   },
   "outputs": [],
   "source": [
    "\"\"\"\n",
    "给定区块高度获得区块奖励(float)\n",
    "\"\"\"\n",
    "def GetBlockValue(nHeight:int):\n",
    "    nSubsidy = 0\n",
    "    LAST_POW_BLOCK = 23600\n",
    "    COIN = 1    \n",
    "    \n",
    "    if (nHeight == 0):\n",
    "        nSubsidy = 7000000 * COIN;\n",
    "    elif (nHeight < 2000 and nHeight > 0):\n",
    "        nSubsidy = 1 * COIN;\n",
    "    elif (nHeight < LAST_POW_BLOCK and nHeight >= 2000):\n",
    "        nSubsidy = 100 * COIN;\n",
    "    elif (nHeight < 300000 and nHeight >= LAST_POW_BLOCK) :\n",
    "        nSubsidy = 100 * COIN;\n",
    "    elif (nHeight < 1000000 and nHeight >= 300000):\n",
    "        nSubsidy = 50 * COIN;\n",
    "    elif (nHeight < 2000000 and nHeight >= 1000000):\n",
    "        nSubsidy = 25 * COIN;\n",
    "    elif (nHeight < 3000000 and nHeight >= 2000000): \n",
    "        nSubsidy = 12.5 * COIN;\n",
    "    else:\n",
    "        nSubsidy = 6.25 * COIN;\n",
    "               \n",
    "    # Super block\n",
    "    nTail = nHeight - int(nHeight / 21600) * 21600;\n",
    "    if (nHeight > LAST_POW_BLOCK and nTail >= 0 and nTail < 15):\n",
    "        nSubsidy = 1000 * COIN;\n",
    "\n",
    "    return nSubsidy;\n",
    "\n",
    "\"\"\"\n",
    "输入两个区块高度（或时间），返回膨胀率(float)\n",
    "\"\"\"\n",
    "def InflationRate(arg1,arg2):        \n",
    "    if type(arg1)==str:\n",
    "        ts1 = np.datetime64(arg1 , 's').astype('int64')\n",
    "        block1 = math.floor((ts1 - block1Time)/aveageBlockTime)\n",
    "    else:\n",
    "        block1 = arg1\n",
    "        \n",
    "    if type(arg2)==str:\n",
    "        ts2 = np.datetime64(arg2 , 's').astype('int64')\n",
    "        block2 = math.floor((ts2 - block1Time)/aveageBlockTime)\n",
    "    else:\n",
    "        block2 = arg2     \n",
    "        \n",
    "    if block1>=block2:\n",
    "        block1,block2 = block2,block1\n",
    "        \n",
    "    block1List = np.arange(block1)\n",
    "    block2List = np.arange(block2)\n",
    "    GetBlockValueFunc = np.vectorize(GetBlockValue)\n",
    "    \n",
    "    block1Last = np.cumsum(GetBlockValueFunc(block1List))[-1]\n",
    "    block2Last = np.cumsum(GetBlockValueFunc(block2List))[-1]\n",
    "    \n",
    "    return block2Last/block1Last\n",
    "\n",
    "\n",
    "\"\"\"\n",
    "给定区块高度（或时间），获得流通数量(float)\n",
    "\"\"\"\n",
    "def GetCirculatingSupply(arg):\n",
    "    if type(arg)==int or type(arg)==float:\n",
    "        nHeight = arg\n",
    "    elif type(arg) == str or type(arg)==np.datetime64:\n",
    "        ts = np.datetime64(arg , 's').astype('int64')\n",
    "        nHeight = math.floor((ts - block1Time)/aveageBlockTime)\n",
    "        \n",
    "    blockIndexes = np.arange(nHeight)\n",
    "    GetBlockValueFunc = np.vectorize(GetBlockValue)\n",
    "    cumsum = np.cumsum(GetBlockValueFunc(blockIndexes))\n",
    "    return cumsum[-1]\n",
    "\n",
    "\n",
    "\"\"\"\n",
    "给定区块高度(或时间)，获得真实年化ROI\n",
    "\"\"\"\n",
    "def GetRealROIAnnual(arg):\n",
    "    if type(arg)==int:\n",
    "        nHeight = arg\n",
    "    else:\n",
    "        ts = np.datetime64(arg , 's').astype('int64')\n",
    "        nHeight = math.floor((ts - block1Time)/aveageBlockTime)\n",
    "    AnnualBlockCount = 365*24*60*60/aveageBlockTime\n",
    "    return GetCirculatingSupply(nHeight+AnnualBlockCount)/GetCirculatingSupply(nHeight)\n",
    "\n",
    "\"\"\"\n",
    "给定区块高度，返回时间\n",
    "\"\"\"\n",
    "def GetTimeFromHeight(height):\n",
    "    ts = height*averageBlockTime+block1Time\n",
    "    return np.datetime64(ts , 's')"
   ]
  },
  {
   "cell_type": "code",
   "execution_count": null,
   "metadata": {
    "collapsed": false
   },
   "outputs": [
    {
     "name": "stdout",
     "output_type": "stream",
     "text": [
      "2019-08-05T23:44:30\n",
      "2022-05-22T19:44:30\n",
      "2026-05-20T03:44:30\n",
      "2030-05-17T11:44:30\n"
     ]
    }
   ],
   "source": [
    "# 第一次减半 300000 到50\n",
    "print(GetTimeFromHeight(300000))\n",
    "# 第二次减半 1000000 到25\n",
    "print(GetTimeFromHeight(1000000))\n",
    "# 第三次减半 2000000 到12.5\n",
    "print(GetTimeFromHeight(2000000))\n",
    "# 第四次减半 3000000 到6.25\n",
    "print(GetTimeFromHeight(3000000))"
   ]
  },
  {
   "cell_type": "code",
   "execution_count": null,
   "metadata": {
    "collapsed": false
   },
   "outputs": [
    {
     "name": "stdout",
     "output_type": "stream",
     "text": [
      "[ 4.65860513  3.92884515  3.39531192  2.96161734  2.63123395  2.37913546\n",
      "  2.18046259  2.01985193  1.88731547  1.77609426  1.6808891   1.59936528\n",
      "  1.52908091  1.46668727  1.41145187  1.36220732  1.34429565  1.33542655\n",
      "  1.3270025   1.3189916   1.31136383  1.30409232  1.2968264   1.29061504\n",
      "  1.28427049  1.27819675  1.27237741  1.26679654  1.26143978  1.25629363\n",
      "  1.25134641  1.24658657  1.24200342  1.23732714  1.23339008  1.22928027\n",
      "  1.2253129   1.22148048  1.21603949  1.20438395  1.19310623  1.18218773\n",
      "  1.17161102  1.16136133  1.15120039  1.14180738  1.13244846  1.12336216\n",
      "  1.1145363   1.10595941  1.09762194  1.09080599  1.09017636]\n"
     ]
    }
   ],
   "source": [
    "t = np.arange('2018-05-26', '2022-05-26',np.timedelta64(4,'W'), dtype='datetime64')\n",
    "\n",
    "GetRealROIAnnualFun = np.vectorize(GetRealROIAnnual)\n",
    "\n",
    "RealROIX = GetRealROIAnnualFun(t)\n",
    "\n",
    "print(RealROIX) "
   ]
  },
  {
   "cell_type": "code",
   "execution_count": null,
   "metadata": {
    "collapsed": false,
    "scrolled": true
   },
   "outputs": [
    {
     "data": {
      "image/png": "[encoded data removed]",
      "text/plain": [
       "<Figure size 432x288 with 1 Axes>"
      ]
     },
     "metadata": {},
     "output_type": "display_data"
    }
   ],
   "source": [
    "f, ax = plt.subplots()\n",
    "ax.set_title('NPW Real Annual Return')\n",
    "ax.plot_date(t, RealROIX-1) \n",
    "plt.xticks(rotation=45)\n",
    "vals = ax.get_yticks()\n",
    "ax.set_yticklabels(['{:,.2%}'.format(x) for x in vals])\n",
    "plt.show()"
   ]
  },
  {
   "cell_type": "code",
   "execution_count": null,
   "metadata": {
    "collapsed": false
   },
   "outputs": [
    {
     "name": "stdout",
     "output_type": "stream",
     "text": [
      "09年8月会第一次减半，届时年通胀维持在35%以下。\n",
      "如果达到了 PIVX 目前的￥4亿市值，币价会是10.72元。\n",
      "你目前 0.0001BTC，也就是￥4.2卖掉的1NPW，在那时会变成2.85个\n",
      "换句话说，现在的1NPW，到时候会价值￥30.53\n"
     ]
    }
   ],
   "source": [
    "tempPrice = 400000000/GetCirculatingSupply('2019-08-05')\n",
    "tempChildren = InflationRate('2018-08-23','2019-08-05')\n",
    "fairValue = tempPrice * tempChildren\n",
    "print(f'''09年8月会第一次减半，届时年通胀维持在35%以下。\n",
    "如果达到了 PIVX 目前的￥4亿市值，币价会是{tempPrice:.2f}元。\n",
    "你目前 0.0001BTC，也就是￥4.2卖掉的1NPW，在那时会变成{tempChildren:.2f}个\n",
    "换句话说，现在的1NPW，到时候会价值￥{fairValue:.2f}''')"
   ]
  },
  {
   "cell_type": "code",
   "execution_count": null,
   "metadata": {
    "collapsed": false
   },
   "outputs": [
    {
     "name": "stdout",
     "output_type": "stream",
     "text": [
      "22年5月会第二次减半，届时年通胀维持在10%以下。\n",
      "如果达到了 DASH 目前的￥80亿市值，币价会是109.52元。\n",
      "你目前 0.0001BTC，也就是￥4.2卖掉的1NPW，在那时会变成5.57个\n",
      "换句话说，现在的1NPW，到时候会价值￥610.55\n"
     ]
    }
   ],
   "source": [
    "tempPrice = 8000000000/GetCirculatingSupply('2022-05-22')\n",
    "tempChildren = InflationRate('2018-08-23','2022-05-22')\n",
    "fairValue = tempPrice * tempChildren\n",
    "print(f'''22年5月会第二次减半，届时年通胀维持在10%以下。\n",
    "如果达到了 DASH 目前的￥80亿市值，币价会是{tempPrice:.2f}元。\n",
    "你目前 0.0001BTC，也就是￥4.2卖掉的1NPW，在那时会变成{tempChildren:.2f}个\n",
    "换句话说，现在的1NPW，到时候会价值￥{fairValue:.2f}''')"
   ]
  },
  {
   "cell_type": "code",
   "execution_count": null,
   "metadata": {
    "collapsed": true
   },
   "outputs": [],
   "source": []
  }
 ],
 "metadata": {
  "anaconda-cloud": {},
  "kernelspec": {
   "display_name": "Python [conda env:masternode]",
   "language": "python",
   "name": "conda-env-masternode-py"
  },
  "language_info": {
   "codemirror_mode": {
    "name": "ipython",
    "version": 3
   },
   "file_extension": ".py",
   "mimetype": "text/x-python",
   "name": "python",
   "nbconvert_exporter": "python",
   "pygments_lexer": "ipython3",
   "version": "3.6.6"
  }
 },
 "nbformat": 4,
 "nbformat_minor": 1
}
